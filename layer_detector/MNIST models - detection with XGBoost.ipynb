{
 "cells": [
  {
   "cell_type": "markdown",
   "id": "german-clause",
   "metadata": {},
   "source": [
    "This notebook aims to reproduce results of the paper: \n",
    "\n",
    "**Detection of Adversarial Attacks by Analyzing Deep Features with Multivariate Data Algorithms**\n",
    "\n",
    "\n",
    "\n",
    "\n",
    "It allows to execute XGBoost on the hidden layers of MNIST-2 and MNIST-1, and reproduce our results.\n",
    "\n",
    "\n",
    "For each individual layer and each individual attack:\n",
    "\n",
    "- it trains XGBoost\n",
    "- it attempts detection also on the other attacks\n",
    " \n",
    "\n",
    "\n",
    "It requires the layers available at https://drive.google.com/drive/folders/1JsV45ooRlk5CpqFCPy-uR4iBB3Nbqx08?usp=sharing ,\n",
    "folder MNIST-2 or MNIST-1\n",
    "\n",
    "\n",
    "We assume the MNIST-1 or MNIST-2 folder is located at path BASE (e.g., BASE=/home/whatever/MNIST-2 )\n",
    "\n",
    "\n",
    "We recommend to use the conda environment available on the github."
   ]
  },
  {
   "cell_type": "code",
   "execution_count": 3,
   "id": "above-handbook",
   "metadata": {},
   "outputs": [],
   "source": [
    "#configuration parameters, check carefully\n",
    "\n",
    "TEST_SIZE_SPLIT= 0.2 #we recommend 0.2\n",
    "DATASET=\"mnist2\" #set either to \"mnist1\" or \"mnist2\"\n",
    "LOGFILE=\"mnist_2.csv\" #logfile, choose whatever name you like\n",
    "RESULTS='/home/whatever/' #path to logfile\n",
    "BASE='/home/whatever/MNIST-2/' #must point to MNIST-1 or MNIST-2 folders"
   ]
  },
  {
   "cell_type": "code",
   "execution_count": 1,
   "id": "humanitarian-corner",
   "metadata": {},
   "outputs": [],
   "source": [
    "#from here on, everything should just run smoothly -- if you find errors, please contact us!\n",
    "ATTACK=['bim_03', 'deep', 'fgsm_03', 'carlini_l2']\n",
    "SUFFIX='.npy'\n",
    "METHOD=\"XGBOOST\""
   ]
  },
  {
   "cell_type": "code",
   "execution_count": 2,
   "id": "patent-paris",
   "metadata": {},
   "outputs": [],
   "source": [
    "from sklearn.metrics import accuracy_score\n",
    "\n",
    "import numpy as np\n",
    "import sys\n",
    "import xgboost as xgb\n",
    "from sklearn.model_selection import train_test_split\n",
    "from sklearn.metrics import classification_report, confusion_matrix\n",
    "from sklearn.preprocessing import MinMaxScaler\n",
    "from sklearn.preprocessing import StandardScaler\n",
    "import sklearn.metrics as metrics\n",
    "import csv\n",
    "from matplotlib import pyplot as plt\n",
    "import math\n",
    "from pathlib import Path\n",
    "from ipywidgets import IntProgress\n",
    "from IPython.display import display\n",
    "import os\n",
    "import pandas as pd\n",
    "import time"
   ]
  },
  {
   "cell_type": "markdown",
   "id": "brief-question",
   "metadata": {},
   "source": [
    "Just code to load the .npy files stored"
   ]
  },
  {
   "cell_type": "code",
   "execution_count": 9,
   "id": "behind-merchandise",
   "metadata": {},
   "outputs": [],
   "source": [
    "def list_files(name):\n",
    "    BASE_DIR=BASE+name\n",
    "    file_list=[]\n",
    "    for fx in os.listdir(BASE_DIR):\n",
    "        f = os.path.join(BASE_DIR, fx)\n",
    "        if os.path.isfile(f):\n",
    "            file_list.append(f)\n",
    "    return file_list"
   ]
  },
  {
   "cell_type": "code",
   "execution_count": 10,
   "id": "5a50ce14",
   "metadata": {},
   "outputs": [
    {
     "ename": "FileNotFoundError",
     "evalue": "[Errno 2] No such file or directory: '/home/whatever/MNIST-2//train/'",
     "output_type": "error",
     "traceback": [
      "\u001b[0;31m---------------------------------------------------------------------------\u001b[0m",
      "\u001b[0;31mFileNotFoundError\u001b[0m                         Traceback (most recent call last)",
      "\u001b[0;32m/tmp/ipykernel_13609/4187196849.py\u001b[0m in \u001b[0;36m<module>\u001b[0;34m\u001b[0m\n\u001b[1;32m      1\u001b[0m \u001b[0;31m#get list of layers by number\u001b[0m\u001b[0;34m\u001b[0m\u001b[0;34m\u001b[0m\u001b[0m\n\u001b[0;32m----> 2\u001b[0;31m \u001b[0mtrain_1\u001b[0m\u001b[0;34m=\u001b[0m\u001b[0mlist_files\u001b[0m\u001b[0;34m(\u001b[0m\u001b[0;34m\"/train/\"\u001b[0m\u001b[0;34m)\u001b[0m\u001b[0;34m\u001b[0m\u001b[0;34m\u001b[0m\u001b[0m\n\u001b[0m\u001b[1;32m      3\u001b[0m \u001b[0mnumber_list\u001b[0m\u001b[0;34m=\u001b[0m\u001b[0;34m[\u001b[0m\u001b[0;34m]\u001b[0m\u001b[0;34m\u001b[0m\u001b[0;34m\u001b[0m\u001b[0m\n\u001b[1;32m      4\u001b[0m \u001b[0;32mfor\u001b[0m \u001b[0mi\u001b[0m \u001b[0;32min\u001b[0m \u001b[0mtrain_1\u001b[0m\u001b[0;34m:\u001b[0m\u001b[0;34m\u001b[0m\u001b[0;34m\u001b[0m\u001b[0m\n\u001b[1;32m      5\u001b[0m     \u001b[0mfile_name\u001b[0m\u001b[0;34m=\u001b[0m\u001b[0mos\u001b[0m\u001b[0;34m.\u001b[0m\u001b[0mpath\u001b[0m\u001b[0;34m.\u001b[0m\u001b[0mbasename\u001b[0m\u001b[0;34m(\u001b[0m\u001b[0mi\u001b[0m\u001b[0;34m)\u001b[0m\u001b[0;34m\u001b[0m\u001b[0;34m\u001b[0m\u001b[0m\n",
      "\u001b[0;32m/tmp/ipykernel_13609/3883309752.py\u001b[0m in \u001b[0;36mlist_files\u001b[0;34m(name)\u001b[0m\n\u001b[1;32m      2\u001b[0m     \u001b[0mBASE_DIR\u001b[0m\u001b[0;34m=\u001b[0m\u001b[0mBASE\u001b[0m\u001b[0;34m+\u001b[0m\u001b[0mname\u001b[0m\u001b[0;34m\u001b[0m\u001b[0;34m\u001b[0m\u001b[0m\n\u001b[1;32m      3\u001b[0m     \u001b[0mfile_list\u001b[0m\u001b[0;34m=\u001b[0m\u001b[0;34m[\u001b[0m\u001b[0;34m]\u001b[0m\u001b[0;34m\u001b[0m\u001b[0;34m\u001b[0m\u001b[0m\n\u001b[0;32m----> 4\u001b[0;31m     \u001b[0;32mfor\u001b[0m \u001b[0mfx\u001b[0m \u001b[0;32min\u001b[0m \u001b[0mos\u001b[0m\u001b[0;34m.\u001b[0m\u001b[0mlistdir\u001b[0m\u001b[0;34m(\u001b[0m\u001b[0mBASE_DIR\u001b[0m\u001b[0;34m)\u001b[0m\u001b[0;34m:\u001b[0m\u001b[0;34m\u001b[0m\u001b[0;34m\u001b[0m\u001b[0m\n\u001b[0m\u001b[1;32m      5\u001b[0m         \u001b[0mf\u001b[0m \u001b[0;34m=\u001b[0m \u001b[0mos\u001b[0m\u001b[0;34m.\u001b[0m\u001b[0mpath\u001b[0m\u001b[0;34m.\u001b[0m\u001b[0mjoin\u001b[0m\u001b[0;34m(\u001b[0m\u001b[0mBASE_DIR\u001b[0m\u001b[0;34m,\u001b[0m \u001b[0mfx\u001b[0m\u001b[0;34m)\u001b[0m\u001b[0;34m\u001b[0m\u001b[0;34m\u001b[0m\u001b[0m\n\u001b[1;32m      6\u001b[0m         \u001b[0;32mif\u001b[0m \u001b[0mos\u001b[0m\u001b[0;34m.\u001b[0m\u001b[0mpath\u001b[0m\u001b[0;34m.\u001b[0m\u001b[0misfile\u001b[0m\u001b[0;34m(\u001b[0m\u001b[0mf\u001b[0m\u001b[0;34m)\u001b[0m\u001b[0;34m:\u001b[0m\u001b[0;34m\u001b[0m\u001b[0;34m\u001b[0m\u001b[0m\n",
      "\u001b[0;31mFileNotFoundError\u001b[0m: [Errno 2] No such file or directory: '/home/whatever/MNIST-2//train/'"
     ]
    }
   ],
   "source": [
    "#get list of layers by number\n",
    "train_1=list_files(\"/train/\")\n",
    "number_list=[]\n",
    "for i in train_1:\n",
    "    file_name=os.path.basename(i)\n",
    "    number = file_name.partition(\"_\")[0]\n",
    "    number= int(number)\n",
    "    if number not in number_list:\n",
    "        number_list.append(number)\n",
    "print(number_list)"
   ]
  },
  {
   "cell_type": "code",
   "execution_count": 12,
   "id": "radio-athletics",
   "metadata": {},
   "outputs": [],
   "source": [
    "#load train data for a specific layer\n",
    "def load_train(L, DATASET):\n",
    "    if(DATASET==\"mnist2\"):\n",
    "        p = Path(BASE+\"/train/layer_\"+str(L)+\".npy\")\n",
    "    else:\n",
    "        p = Path(BASE+\"/train/layer_\"+str(L)+\".npy\")\n",
    "    with p.open('rb') as f:\n",
    "        nptmp=np.load(f)\n",
    "    return nptmp\n",
    "\n",
    "def load_test(L, DATASET):\n",
    "    if(DATASET==\"mnist2\"):\n",
    "        p = Path(BASE+\"/test/layer_\"+str(L)+\".npy\")\n",
    "    else:\n",
    "        p = Path(BASE+\"/test/mnist_test_layers/layer_\"+str(L)+\"_test_data.npy\")\n",
    "    with p.open('rb') as f:\n",
    "        nptmp=np.load(f)\n",
    "    return nptmp\n",
    "\n",
    "#prefix, layer\n",
    "def load_attack(attack, L):\n",
    "    if(DATASET==\"mnist2\"):\n",
    "        p = Path(BASE+\"/\"+str(attack)+\"/layer_\"+str(L)+\".npy\")\n",
    "    else:\n",
    "        p = Path(BASE+\"/\"+str(attack)+\"/\"+str(L)+\"_layers.npy\")\n",
    "    with p.open('rb') as f:\n",
    "        nptmp=np.load(f)\n",
    "    return nptmp"
   ]
  },
  {
   "cell_type": "markdown",
   "id": "direct-bowling",
   "metadata": {},
   "source": [
    "Transform the hidden features of a layer in a vector, i.e., in a row. This way we can apply algorithms for tabular data (XGBoost in this case)"
   ]
  },
  {
   "cell_type": "code",
   "execution_count": 5,
   "id": "built-monitoring",
   "metadata": {},
   "outputs": [],
   "source": [
    "def prod(val): \n",
    "    res = 1 \n",
    "    for ele in val: \n",
    "        res *= ele \n",
    "    return res  "
   ]
  },
  {
   "cell_type": "code",
   "execution_count": 14,
   "id": "statistical-banks",
   "metadata": {},
   "outputs": [],
   "source": [
    "#def get_max_min(array):\n",
    "#    minimum=np.min(array)\n",
    "#    maximum=np.max(array)\n",
    "#    return minimum, maximum\n",
    "\n",
    "#def normalize(array, minimum, maximum):\n",
    "#    if(NORMALIZE_DATA==True):\n",
    "#        return (array - minimum) / (maximum - minimum)#(array - np.min(array)) / (np.max(array) - np.min(array)) \n",
    "#    else:\n",
    "#        return array\n",
    "\n",
    "def linearize(numpy_linearized):\n",
    "    shape_tuple=numpy_linearized.shape[1:]\n",
    "    row_length=prod(list(shape_tuple))\n",
    "    numpy_linearized=numpy_linearized.reshape(\n",
    "        numpy_linearized.shape[0], row_length)\n",
    "    return numpy_linearized"
   ]
  },
  {
   "cell_type": "markdown",
   "id": "finnish-cleaner",
   "metadata": {},
   "source": [
    "some functions to prepare for logging"
   ]
  },
  {
   "cell_type": "code",
   "execution_count": 15,
   "id": "approved-calcium",
   "metadata": {},
   "outputs": [],
   "source": [
    "def write_log(logfile, METHOD, layer, attack, attack1, DATASET, shape, accuracy, tn, fp, fn, tp):\n",
    "    logfile.write(METHOD+\", \"+\n",
    "            layer +\", \"+\n",
    "            attack +\", \"+\n",
    "            attack1 +\", \"+\n",
    "            str(DATASET)+\",  \"+\n",
    "            str(shape)+\",  \"+\n",
    "            str(accuracy)+\",  \"+\n",
    "            str(tn)+\",  \"+\n",
    "            str(fp)+\",  \"+\n",
    "            str(fn)+\",  \"+\n",
    "            str(tp)+\",  \"+\"\\n\")\n",
    "    logfile.flush()\n",
    "\n",
    "def write_sentence(logfile, sentence):\n",
    "    logfile.write(sentence)\n",
    "    logfile.write(\"\\n\")\n",
    "    logfile.flush()"
   ]
  },
  {
   "cell_type": "code",
   "execution_count": 45,
   "id": "amino-gibraltar",
   "metadata": {},
   "outputs": [],
   "source": [
    "f = open(RESULTS+LOGFILE, \"a\")"
   ]
  },
  {
   "cell_type": "code",
   "execution_count": 46,
   "id": "77b8c29c",
   "metadata": {},
   "outputs": [],
   "source": [
    "f.write(\"ALG, LAYER, ATTACK, TRAINED ON, LAYER SHAPE, ACCURACY, TN, FP, FN, TP  \\n\")\n",
    "f.flush()"
   ]
  },
  {
   "cell_type": "markdown",
   "id": "alert-harris",
   "metadata": {},
   "source": [
    "These creates the train and test datasets.\n",
    "\n",
    "For example, they match each normal data point to 0, and each attack data point to 1."
   ]
  },
  {
   "cell_type": "code",
   "execution_count": 44,
   "id": "frozen-generation",
   "metadata": {},
   "outputs": [],
   "source": [
    "def create_normal(normal_x):\n",
    "    normal_y=np.empty([normal_x.shape[0], 1])\n",
    "    normal_y.fill(0)\n",
    "    return normal_x, normal_y\n",
    "\n",
    "def create_attack(attack_x):\n",
    "    attack_y=np.empty([attack_x.shape[0], 1])\n",
    "    attack_y.fill(1)\n",
    "    return attack_x, attack_y\n",
    "\n",
    "def create_test_set(numpy_test_x,attack_test_x, attack_test_y):\n",
    "    numpy_test_x=linearize(numpy_test_x)\n",
    "    numpy_test_y=np.empty([numpy_test_x.shape[0], 1])\n",
    "    numpy_test_y.fill(0)\n",
    "    merged_x=np.concatenate((numpy_test_x, attack_test_x), axis=0)\n",
    "    merged_y=np.concatenate((numpy_test_y, attack_test_y), axis=0)\n",
    "    df=pd.DataFrame(merged_x)\n",
    "    return df , merged_y"
   ]
  },
  {
   "cell_type": "markdown",
   "id": "royal-copper",
   "metadata": {},
   "source": [
    "Now the training and evaluation can start:\n",
    "\n",
    "- take a layer\n",
    "- take an attack\n",
    "- organize a train/test set\n",
    "- do supervised train using XGBOOST\n",
    "- do predict on the test set (legitimate images + attack images)\n",
    "- do predict on all the other attacks"
   ]
  },
  {
   "cell_type": "code",
   "execution_count": 48,
   "id": "brave-creation",
   "metadata": {
    "scrolled": true
   },
   "outputs": [
    {
     "name": "stdout",
     "output_type": "stream",
     "text": [
      "(55000, 128)\n",
      "/home/notebook/neuron/aggregated/bim_03/layer_9.npy\n"
     ]
    },
    {
     "name": "stderr",
     "output_type": "stream",
     "text": [
      "/home/notebook/anaconda3/envs/fastai/lib/python3.9/site-packages/xgboost/sklearn.py:1224: UserWarning: The use of label encoder in XGBClassifier is deprecated and will be removed in a future release. To remove this warning, do the following: 1) Pass option use_label_encoder=False when constructing XGBClassifier object; and 2) Encode your labels (y) as integers starting with 0, i.e. 0, 1, 2, ..., [num_class - 1].\n",
      "  warnings.warn(label_encoder_deprecation_msg, UserWarning)\n",
      "/home/notebook/anaconda3/envs/fastai/lib/python3.9/site-packages/sklearn/preprocessing/_label.py:98: DataConversionWarning: A column-vector y was passed when a 1d array was expected. Please change the shape of y to (n_samples, ), for example using ravel().\n",
      "  y = column_or_1d(y, warn=True)\n",
      "/home/notebook/anaconda3/envs/fastai/lib/python3.9/site-packages/sklearn/preprocessing/_label.py:133: DataConversionWarning: A column-vector y was passed when a 1d array was expected. Please change the shape of y to (n_samples, ), for example using ravel().\n",
      "  y = column_or_1d(y, warn=True)\n"
     ]
    },
    {
     "name": "stdout",
     "output_type": "stream",
     "text": [
      "[13:55:56] WARNING: ../src/learner.cc:1115: Starting in XGBoost 1.3.0, the default evaluation metric used with the objective 'binary:logistic' was changed from 'error' to 'logloss'. Explicitly set eval_metric if you'd like to restore the old behavior.\n",
      "/home/notebook/neuron/aggregated/bim_03/layer_9.npy\n",
      "/home/notebook/neuron/aggregated/carlini_l2/layer_9.npy\n",
      "/home/notebook/neuron/aggregated/deep/layer_9.npy\n",
      "/home/notebook/neuron/aggregated/fgsm_03/layer_9.npy\n",
      "/home/notebook/neuron/aggregated/carlini_l2/layer_9.npy\n",
      "could not load carlini_l2 for layer 9\n",
      "/home/notebook/neuron/aggregated/deep/layer_9.npy\n"
     ]
    },
    {
     "name": "stderr",
     "output_type": "stream",
     "text": [
      "/home/notebook/anaconda3/envs/fastai/lib/python3.9/site-packages/xgboost/sklearn.py:1224: UserWarning: The use of label encoder in XGBClassifier is deprecated and will be removed in a future release. To remove this warning, do the following: 1) Pass option use_label_encoder=False when constructing XGBClassifier object; and 2) Encode your labels (y) as integers starting with 0, i.e. 0, 1, 2, ..., [num_class - 1].\n",
      "  warnings.warn(label_encoder_deprecation_msg, UserWarning)\n",
      "/home/notebook/anaconda3/envs/fastai/lib/python3.9/site-packages/sklearn/preprocessing/_label.py:98: DataConversionWarning: A column-vector y was passed when a 1d array was expected. Please change the shape of y to (n_samples, ), for example using ravel().\n",
      "  y = column_or_1d(y, warn=True)\n",
      "/home/notebook/anaconda3/envs/fastai/lib/python3.9/site-packages/sklearn/preprocessing/_label.py:133: DataConversionWarning: A column-vector y was passed when a 1d array was expected. Please change the shape of y to (n_samples, ), for example using ravel().\n",
      "  y = column_or_1d(y, warn=True)\n"
     ]
    },
    {
     "name": "stdout",
     "output_type": "stream",
     "text": [
      "[13:56:03] WARNING: ../src/learner.cc:1115: Starting in XGBoost 1.3.0, the default evaluation metric used with the objective 'binary:logistic' was changed from 'error' to 'logloss'. Explicitly set eval_metric if you'd like to restore the old behavior.\n",
      "/home/notebook/neuron/aggregated/bim_03/layer_9.npy\n",
      "/home/notebook/neuron/aggregated/carlini_l2/layer_9.npy\n",
      "/home/notebook/neuron/aggregated/deep/layer_9.npy\n",
      "/home/notebook/neuron/aggregated/fgsm_03/layer_9.npy\n",
      "/home/notebook/neuron/aggregated/fgsm_03/layer_9.npy\n"
     ]
    },
    {
     "name": "stderr",
     "output_type": "stream",
     "text": [
      "/home/notebook/anaconda3/envs/fastai/lib/python3.9/site-packages/xgboost/sklearn.py:1224: UserWarning: The use of label encoder in XGBClassifier is deprecated and will be removed in a future release. To remove this warning, do the following: 1) Pass option use_label_encoder=False when constructing XGBClassifier object; and 2) Encode your labels (y) as integers starting with 0, i.e. 0, 1, 2, ..., [num_class - 1].\n",
      "  warnings.warn(label_encoder_deprecation_msg, UserWarning)\n",
      "/home/notebook/anaconda3/envs/fastai/lib/python3.9/site-packages/sklearn/preprocessing/_label.py:98: DataConversionWarning: A column-vector y was passed when a 1d array was expected. Please change the shape of y to (n_samples, ), for example using ravel().\n",
      "  y = column_or_1d(y, warn=True)\n",
      "/home/notebook/anaconda3/envs/fastai/lib/python3.9/site-packages/sklearn/preprocessing/_label.py:133: DataConversionWarning: A column-vector y was passed when a 1d array was expected. Please change the shape of y to (n_samples, ), for example using ravel().\n",
      "  y = column_or_1d(y, warn=True)\n"
     ]
    },
    {
     "name": "stdout",
     "output_type": "stream",
     "text": [
      "[13:56:09] WARNING: ../src/learner.cc:1115: Starting in XGBoost 1.3.0, the default evaluation metric used with the objective 'binary:logistic' was changed from 'error' to 'logloss'. Explicitly set eval_metric if you'd like to restore the old behavior.\n",
      "/home/notebook/neuron/aggregated/bim_03/layer_9.npy\n",
      "/home/notebook/neuron/aggregated/carlini_l2/layer_9.npy\n",
      "/home/notebook/neuron/aggregated/deep/layer_9.npy\n",
      "/home/notebook/neuron/aggregated/fgsm_03/layer_9.npy\n",
      "(55000, 12544)\n",
      "/home/notebook/neuron/aggregated/bim_03/layer_3.npy\n"
     ]
    },
    {
     "name": "stderr",
     "output_type": "stream",
     "text": [
      "/home/notebook/anaconda3/envs/fastai/lib/python3.9/site-packages/xgboost/sklearn.py:1224: UserWarning: The use of label encoder in XGBClassifier is deprecated and will be removed in a future release. To remove this warning, do the following: 1) Pass option use_label_encoder=False when constructing XGBClassifier object; and 2) Encode your labels (y) as integers starting with 0, i.e. 0, 1, 2, ..., [num_class - 1].\n",
      "  warnings.warn(label_encoder_deprecation_msg, UserWarning)\n",
      "/home/notebook/anaconda3/envs/fastai/lib/python3.9/site-packages/sklearn/preprocessing/_label.py:98: DataConversionWarning: A column-vector y was passed when a 1d array was expected. Please change the shape of y to (n_samples, ), for example using ravel().\n",
      "  y = column_or_1d(y, warn=True)\n",
      "/home/notebook/anaconda3/envs/fastai/lib/python3.9/site-packages/sklearn/preprocessing/_label.py:133: DataConversionWarning: A column-vector y was passed when a 1d array was expected. Please change the shape of y to (n_samples, ), for example using ravel().\n",
      "  y = column_or_1d(y, warn=True)\n"
     ]
    },
    {
     "name": "stdout",
     "output_type": "stream",
     "text": [
      "[13:57:46] WARNING: ../src/learner.cc:1115: Starting in XGBoost 1.3.0, the default evaluation metric used with the objective 'binary:logistic' was changed from 'error' to 'logloss'. Explicitly set eval_metric if you'd like to restore the old behavior.\n",
      "/home/notebook/neuron/aggregated/bim_03/layer_3.npy\n",
      "/home/notebook/neuron/aggregated/carlini_l2/layer_3.npy\n",
      "/home/notebook/neuron/aggregated/deep/layer_3.npy\n",
      "/home/notebook/neuron/aggregated/fgsm_03/layer_3.npy\n",
      "/home/notebook/neuron/aggregated/carlini_l2/layer_3.npy\n",
      "could not load carlini_l2 for layer 3\n",
      "/home/notebook/neuron/aggregated/deep/layer_3.npy\n"
     ]
    },
    {
     "name": "stderr",
     "output_type": "stream",
     "text": [
      "/home/notebook/anaconda3/envs/fastai/lib/python3.9/site-packages/xgboost/sklearn.py:1224: UserWarning: The use of label encoder in XGBClassifier is deprecated and will be removed in a future release. To remove this warning, do the following: 1) Pass option use_label_encoder=False when constructing XGBClassifier object; and 2) Encode your labels (y) as integers starting with 0, i.e. 0, 1, 2, ..., [num_class - 1].\n",
      "  warnings.warn(label_encoder_deprecation_msg, UserWarning)\n",
      "/home/notebook/anaconda3/envs/fastai/lib/python3.9/site-packages/sklearn/preprocessing/_label.py:98: DataConversionWarning: A column-vector y was passed when a 1d array was expected. Please change the shape of y to (n_samples, ), for example using ravel().\n",
      "  y = column_or_1d(y, warn=True)\n",
      "/home/notebook/anaconda3/envs/fastai/lib/python3.9/site-packages/sklearn/preprocessing/_label.py:133: DataConversionWarning: A column-vector y was passed when a 1d array was expected. Please change the shape of y to (n_samples, ), for example using ravel().\n",
      "  y = column_or_1d(y, warn=True)\n"
     ]
    },
    {
     "name": "stdout",
     "output_type": "stream",
     "text": [
      "[14:00:59] WARNING: ../src/learner.cc:1115: Starting in XGBoost 1.3.0, the default evaluation metric used with the objective 'binary:logistic' was changed from 'error' to 'logloss'. Explicitly set eval_metric if you'd like to restore the old behavior.\n",
      "/home/notebook/neuron/aggregated/bim_03/layer_3.npy\n",
      "/home/notebook/neuron/aggregated/carlini_l2/layer_3.npy\n",
      "/home/notebook/neuron/aggregated/deep/layer_3.npy\n",
      "/home/notebook/neuron/aggregated/fgsm_03/layer_3.npy\n",
      "/home/notebook/neuron/aggregated/fgsm_03/layer_3.npy\n"
     ]
    },
    {
     "name": "stderr",
     "output_type": "stream",
     "text": [
      "/home/notebook/anaconda3/envs/fastai/lib/python3.9/site-packages/xgboost/sklearn.py:1224: UserWarning: The use of label encoder in XGBClassifier is deprecated and will be removed in a future release. To remove this warning, do the following: 1) Pass option use_label_encoder=False when constructing XGBClassifier object; and 2) Encode your labels (y) as integers starting with 0, i.e. 0, 1, 2, ..., [num_class - 1].\n",
      "  warnings.warn(label_encoder_deprecation_msg, UserWarning)\n",
      "/home/notebook/anaconda3/envs/fastai/lib/python3.9/site-packages/sklearn/preprocessing/_label.py:98: DataConversionWarning: A column-vector y was passed when a 1d array was expected. Please change the shape of y to (n_samples, ), for example using ravel().\n",
      "  y = column_or_1d(y, warn=True)\n",
      "/home/notebook/anaconda3/envs/fastai/lib/python3.9/site-packages/sklearn/preprocessing/_label.py:133: DataConversionWarning: A column-vector y was passed when a 1d array was expected. Please change the shape of y to (n_samples, ), for example using ravel().\n",
      "  y = column_or_1d(y, warn=True)\n"
     ]
    },
    {
     "name": "stdout",
     "output_type": "stream",
     "text": [
      "[14:04:42] WARNING: ../src/learner.cc:1115: Starting in XGBoost 1.3.0, the default evaluation metric used with the objective 'binary:logistic' was changed from 'error' to 'logloss'. Explicitly set eval_metric if you'd like to restore the old behavior.\n",
      "/home/notebook/neuron/aggregated/bim_03/layer_3.npy\n",
      "/home/notebook/neuron/aggregated/carlini_l2/layer_3.npy\n",
      "/home/notebook/neuron/aggregated/deep/layer_3.npy\n",
      "/home/notebook/neuron/aggregated/fgsm_03/layer_3.npy\n",
      "(55000, 128)\n",
      "/home/notebook/neuron/aggregated/bim_03/layer_10.npy\n"
     ]
    },
    {
     "name": "stderr",
     "output_type": "stream",
     "text": [
      "/home/notebook/anaconda3/envs/fastai/lib/python3.9/site-packages/xgboost/sklearn.py:1224: UserWarning: The use of label encoder in XGBClassifier is deprecated and will be removed in a future release. To remove this warning, do the following: 1) Pass option use_label_encoder=False when constructing XGBClassifier object; and 2) Encode your labels (y) as integers starting with 0, i.e. 0, 1, 2, ..., [num_class - 1].\n",
      "  warnings.warn(label_encoder_deprecation_msg, UserWarning)\n",
      "/home/notebook/anaconda3/envs/fastai/lib/python3.9/site-packages/sklearn/preprocessing/_label.py:98: DataConversionWarning: A column-vector y was passed when a 1d array was expected. Please change the shape of y to (n_samples, ), for example using ravel().\n",
      "  y = column_or_1d(y, warn=True)\n",
      "/home/notebook/anaconda3/envs/fastai/lib/python3.9/site-packages/sklearn/preprocessing/_label.py:133: DataConversionWarning: A column-vector y was passed when a 1d array was expected. Please change the shape of y to (n_samples, ), for example using ravel().\n",
      "  y = column_or_1d(y, warn=True)\n"
     ]
    },
    {
     "name": "stdout",
     "output_type": "stream",
     "text": [
      "[14:07:48] WARNING: ../src/learner.cc:1115: Starting in XGBoost 1.3.0, the default evaluation metric used with the objective 'binary:logistic' was changed from 'error' to 'logloss'. Explicitly set eval_metric if you'd like to restore the old behavior.\n",
      "/home/notebook/neuron/aggregated/bim_03/layer_10.npy\n",
      "/home/notebook/neuron/aggregated/carlini_l2/layer_10.npy\n",
      "/home/notebook/neuron/aggregated/deep/layer_10.npy\n",
      "/home/notebook/neuron/aggregated/fgsm_03/layer_10.npy\n",
      "/home/notebook/neuron/aggregated/carlini_l2/layer_10.npy\n",
      "could not load carlini_l2 for layer 10\n",
      "/home/notebook/neuron/aggregated/deep/layer_10.npy\n"
     ]
    },
    {
     "name": "stderr",
     "output_type": "stream",
     "text": [
      "/home/notebook/anaconda3/envs/fastai/lib/python3.9/site-packages/xgboost/sklearn.py:1224: UserWarning: The use of label encoder in XGBClassifier is deprecated and will be removed in a future release. To remove this warning, do the following: 1) Pass option use_label_encoder=False when constructing XGBClassifier object; and 2) Encode your labels (y) as integers starting with 0, i.e. 0, 1, 2, ..., [num_class - 1].\n",
      "  warnings.warn(label_encoder_deprecation_msg, UserWarning)\n",
      "/home/notebook/anaconda3/envs/fastai/lib/python3.9/site-packages/sklearn/preprocessing/_label.py:98: DataConversionWarning: A column-vector y was passed when a 1d array was expected. Please change the shape of y to (n_samples, ), for example using ravel().\n",
      "  y = column_or_1d(y, warn=True)\n",
      "/home/notebook/anaconda3/envs/fastai/lib/python3.9/site-packages/sklearn/preprocessing/_label.py:133: DataConversionWarning: A column-vector y was passed when a 1d array was expected. Please change the shape of y to (n_samples, ), for example using ravel().\n",
      "  y = column_or_1d(y, warn=True)\n"
     ]
    },
    {
     "name": "stdout",
     "output_type": "stream",
     "text": [
      "[14:07:55] WARNING: ../src/learner.cc:1115: Starting in XGBoost 1.3.0, the default evaluation metric used with the objective 'binary:logistic' was changed from 'error' to 'logloss'. Explicitly set eval_metric if you'd like to restore the old behavior.\n",
      "/home/notebook/neuron/aggregated/bim_03/layer_10.npy\n",
      "/home/notebook/neuron/aggregated/carlini_l2/layer_10.npy\n",
      "/home/notebook/neuron/aggregated/deep/layer_10.npy\n",
      "/home/notebook/neuron/aggregated/fgsm_03/layer_10.npy\n",
      "/home/notebook/neuron/aggregated/fgsm_03/layer_10.npy\n",
      "[14:08:01] WARNING: ../src/learner.cc:1115: Starting in XGBoost 1.3.0, the default evaluation metric used with the objective 'binary:logistic' was changed from 'error' to 'logloss'. Explicitly set eval_metric if you'd like to restore the old behavior.\n"
     ]
    },
    {
     "name": "stderr",
     "output_type": "stream",
     "text": [
      "/home/notebook/anaconda3/envs/fastai/lib/python3.9/site-packages/xgboost/sklearn.py:1224: UserWarning: The use of label encoder in XGBClassifier is deprecated and will be removed in a future release. To remove this warning, do the following: 1) Pass option use_label_encoder=False when constructing XGBClassifier object; and 2) Encode your labels (y) as integers starting with 0, i.e. 0, 1, 2, ..., [num_class - 1].\n",
      "  warnings.warn(label_encoder_deprecation_msg, UserWarning)\n",
      "/home/notebook/anaconda3/envs/fastai/lib/python3.9/site-packages/sklearn/preprocessing/_label.py:98: DataConversionWarning: A column-vector y was passed when a 1d array was expected. Please change the shape of y to (n_samples, ), for example using ravel().\n",
      "  y = column_or_1d(y, warn=True)\n",
      "/home/notebook/anaconda3/envs/fastai/lib/python3.9/site-packages/sklearn/preprocessing/_label.py:133: DataConversionWarning: A column-vector y was passed when a 1d array was expected. Please change the shape of y to (n_samples, ), for example using ravel().\n",
      "  y = column_or_1d(y, warn=True)\n"
     ]
    },
    {
     "name": "stdout",
     "output_type": "stream",
     "text": [
      "/home/notebook/neuron/aggregated/bim_03/layer_10.npy\n",
      "/home/notebook/neuron/aggregated/carlini_l2/layer_10.npy\n",
      "/home/notebook/neuron/aggregated/deep/layer_10.npy\n",
      "/home/notebook/neuron/aggregated/fgsm_03/layer_10.npy\n",
      "(55000, 10)\n",
      "/home/notebook/neuron/aggregated/bim_03/layer_11.npy\n",
      "[14:08:07] WARNING: ../src/learner.cc:1115: Starting in XGBoost 1.3.0, the default evaluation metric used with the objective 'binary:logistic' was changed from 'error' to 'logloss'. Explicitly set eval_metric if you'd like to restore the old behavior.\n"
     ]
    },
    {
     "name": "stderr",
     "output_type": "stream",
     "text": [
      "/home/notebook/anaconda3/envs/fastai/lib/python3.9/site-packages/xgboost/sklearn.py:1224: UserWarning: The use of label encoder in XGBClassifier is deprecated and will be removed in a future release. To remove this warning, do the following: 1) Pass option use_label_encoder=False when constructing XGBClassifier object; and 2) Encode your labels (y) as integers starting with 0, i.e. 0, 1, 2, ..., [num_class - 1].\n",
      "  warnings.warn(label_encoder_deprecation_msg, UserWarning)\n",
      "/home/notebook/anaconda3/envs/fastai/lib/python3.9/site-packages/sklearn/preprocessing/_label.py:98: DataConversionWarning: A column-vector y was passed when a 1d array was expected. Please change the shape of y to (n_samples, ), for example using ravel().\n",
      "  y = column_or_1d(y, warn=True)\n",
      "/home/notebook/anaconda3/envs/fastai/lib/python3.9/site-packages/sklearn/preprocessing/_label.py:133: DataConversionWarning: A column-vector y was passed when a 1d array was expected. Please change the shape of y to (n_samples, ), for example using ravel().\n",
      "  y = column_or_1d(y, warn=True)\n"
     ]
    },
    {
     "name": "stdout",
     "output_type": "stream",
     "text": [
      "/home/notebook/neuron/aggregated/bim_03/layer_11.npy\n",
      "/home/notebook/neuron/aggregated/carlini_l2/layer_11.npy\n",
      "/home/notebook/neuron/aggregated/deep/layer_11.npy\n",
      "/home/notebook/neuron/aggregated/fgsm_03/layer_11.npy\n",
      "/home/notebook/neuron/aggregated/carlini_l2/layer_11.npy\n",
      "could not load carlini_l2 for layer 11\n",
      "/home/notebook/neuron/aggregated/deep/layer_11.npy\n",
      "[14:08:09] WARNING: ../src/learner.cc:1115: Starting in XGBoost 1.3.0, the default evaluation metric used with the objective 'binary:logistic' was changed from 'error' to 'logloss'. Explicitly set eval_metric if you'd like to restore the old behavior.\n"
     ]
    },
    {
     "name": "stderr",
     "output_type": "stream",
     "text": [
      "/home/notebook/anaconda3/envs/fastai/lib/python3.9/site-packages/xgboost/sklearn.py:1224: UserWarning: The use of label encoder in XGBClassifier is deprecated and will be removed in a future release. To remove this warning, do the following: 1) Pass option use_label_encoder=False when constructing XGBClassifier object; and 2) Encode your labels (y) as integers starting with 0, i.e. 0, 1, 2, ..., [num_class - 1].\n",
      "  warnings.warn(label_encoder_deprecation_msg, UserWarning)\n",
      "/home/notebook/anaconda3/envs/fastai/lib/python3.9/site-packages/sklearn/preprocessing/_label.py:98: DataConversionWarning: A column-vector y was passed when a 1d array was expected. Please change the shape of y to (n_samples, ), for example using ravel().\n",
      "  y = column_or_1d(y, warn=True)\n",
      "/home/notebook/anaconda3/envs/fastai/lib/python3.9/site-packages/sklearn/preprocessing/_label.py:133: DataConversionWarning: A column-vector y was passed when a 1d array was expected. Please change the shape of y to (n_samples, ), for example using ravel().\n",
      "  y = column_or_1d(y, warn=True)\n"
     ]
    },
    {
     "name": "stdout",
     "output_type": "stream",
     "text": [
      "/home/notebook/neuron/aggregated/bim_03/layer_11.npy\n",
      "/home/notebook/neuron/aggregated/carlini_l2/layer_11.npy\n",
      "/home/notebook/neuron/aggregated/deep/layer_11.npy\n",
      "/home/notebook/neuron/aggregated/fgsm_03/layer_11.npy\n",
      "/home/notebook/neuron/aggregated/fgsm_03/layer_11.npy\n",
      "[14:08:12] WARNING: ../src/learner.cc:1115: Starting in XGBoost 1.3.0, the default evaluation metric used with the objective 'binary:logistic' was changed from 'error' to 'logloss'. Explicitly set eval_metric if you'd like to restore the old behavior.\n"
     ]
    },
    {
     "name": "stderr",
     "output_type": "stream",
     "text": [
      "/home/notebook/anaconda3/envs/fastai/lib/python3.9/site-packages/xgboost/sklearn.py:1224: UserWarning: The use of label encoder in XGBClassifier is deprecated and will be removed in a future release. To remove this warning, do the following: 1) Pass option use_label_encoder=False when constructing XGBClassifier object; and 2) Encode your labels (y) as integers starting with 0, i.e. 0, 1, 2, ..., [num_class - 1].\n",
      "  warnings.warn(label_encoder_deprecation_msg, UserWarning)\n",
      "/home/notebook/anaconda3/envs/fastai/lib/python3.9/site-packages/sklearn/preprocessing/_label.py:98: DataConversionWarning: A column-vector y was passed when a 1d array was expected. Please change the shape of y to (n_samples, ), for example using ravel().\n",
      "  y = column_or_1d(y, warn=True)\n",
      "/home/notebook/anaconda3/envs/fastai/lib/python3.9/site-packages/sklearn/preprocessing/_label.py:133: DataConversionWarning: A column-vector y was passed when a 1d array was expected. Please change the shape of y to (n_samples, ), for example using ravel().\n",
      "  y = column_or_1d(y, warn=True)\n"
     ]
    },
    {
     "name": "stdout",
     "output_type": "stream",
     "text": [
      "/home/notebook/neuron/aggregated/bim_03/layer_11.npy\n",
      "/home/notebook/neuron/aggregated/carlini_l2/layer_11.npy\n",
      "/home/notebook/neuron/aggregated/deep/layer_11.npy\n",
      "/home/notebook/neuron/aggregated/fgsm_03/layer_11.npy\n",
      "(55000, 128)\n",
      "/home/notebook/neuron/aggregated/bim_03/layer_7.npy\n"
     ]
    },
    {
     "name": "stderr",
     "output_type": "stream",
     "text": [
      "/home/notebook/anaconda3/envs/fastai/lib/python3.9/site-packages/xgboost/sklearn.py:1224: UserWarning: The use of label encoder in XGBClassifier is deprecated and will be removed in a future release. To remove this warning, do the following: 1) Pass option use_label_encoder=False when constructing XGBClassifier object; and 2) Encode your labels (y) as integers starting with 0, i.e. 0, 1, 2, ..., [num_class - 1].\n",
      "  warnings.warn(label_encoder_deprecation_msg, UserWarning)\n",
      "/home/notebook/anaconda3/envs/fastai/lib/python3.9/site-packages/sklearn/preprocessing/_label.py:98: DataConversionWarning: A column-vector y was passed when a 1d array was expected. Please change the shape of y to (n_samples, ), for example using ravel().\n",
      "  y = column_or_1d(y, warn=True)\n",
      "/home/notebook/anaconda3/envs/fastai/lib/python3.9/site-packages/sklearn/preprocessing/_label.py:133: DataConversionWarning: A column-vector y was passed when a 1d array was expected. Please change the shape of y to (n_samples, ), for example using ravel().\n",
      "  y = column_or_1d(y, warn=True)\n"
     ]
    },
    {
     "name": "stdout",
     "output_type": "stream",
     "text": [
      "[14:08:15] WARNING: ../src/learner.cc:1115: Starting in XGBoost 1.3.0, the default evaluation metric used with the objective 'binary:logistic' was changed from 'error' to 'logloss'. Explicitly set eval_metric if you'd like to restore the old behavior.\n",
      "/home/notebook/neuron/aggregated/bim_03/layer_7.npy\n",
      "/home/notebook/neuron/aggregated/carlini_l2/layer_7.npy\n",
      "/home/notebook/neuron/aggregated/deep/layer_7.npy\n",
      "/home/notebook/neuron/aggregated/fgsm_03/layer_7.npy\n",
      "/home/notebook/neuron/aggregated/carlini_l2/layer_7.npy\n",
      "could not load carlini_l2 for layer 7\n",
      "/home/notebook/neuron/aggregated/deep/layer_7.npy\n"
     ]
    },
    {
     "name": "stderr",
     "output_type": "stream",
     "text": [
      "/home/notebook/anaconda3/envs/fastai/lib/python3.9/site-packages/xgboost/sklearn.py:1224: UserWarning: The use of label encoder in XGBClassifier is deprecated and will be removed in a future release. To remove this warning, do the following: 1) Pass option use_label_encoder=False when constructing XGBClassifier object; and 2) Encode your labels (y) as integers starting with 0, i.e. 0, 1, 2, ..., [num_class - 1].\n",
      "  warnings.warn(label_encoder_deprecation_msg, UserWarning)\n",
      "/home/notebook/anaconda3/envs/fastai/lib/python3.9/site-packages/sklearn/preprocessing/_label.py:98: DataConversionWarning: A column-vector y was passed when a 1d array was expected. Please change the shape of y to (n_samples, ), for example using ravel().\n",
      "  y = column_or_1d(y, warn=True)\n",
      "/home/notebook/anaconda3/envs/fastai/lib/python3.9/site-packages/sklearn/preprocessing/_label.py:133: DataConversionWarning: A column-vector y was passed when a 1d array was expected. Please change the shape of y to (n_samples, ), for example using ravel().\n",
      "  y = column_or_1d(y, warn=True)\n"
     ]
    },
    {
     "name": "stdout",
     "output_type": "stream",
     "text": [
      "[14:08:29] WARNING: ../src/learner.cc:1115: Starting in XGBoost 1.3.0, the default evaluation metric used with the objective 'binary:logistic' was changed from 'error' to 'logloss'. Explicitly set eval_metric if you'd like to restore the old behavior.\n",
      "/home/notebook/neuron/aggregated/bim_03/layer_7.npy\n",
      "/home/notebook/neuron/aggregated/carlini_l2/layer_7.npy\n",
      "/home/notebook/neuron/aggregated/deep/layer_7.npy\n",
      "/home/notebook/neuron/aggregated/fgsm_03/layer_7.npy\n",
      "/home/notebook/neuron/aggregated/fgsm_03/layer_7.npy\n"
     ]
    },
    {
     "name": "stderr",
     "output_type": "stream",
     "text": [
      "/home/notebook/anaconda3/envs/fastai/lib/python3.9/site-packages/xgboost/sklearn.py:1224: UserWarning: The use of label encoder in XGBClassifier is deprecated and will be removed in a future release. To remove this warning, do the following: 1) Pass option use_label_encoder=False when constructing XGBClassifier object; and 2) Encode your labels (y) as integers starting with 0, i.e. 0, 1, 2, ..., [num_class - 1].\n",
      "  warnings.warn(label_encoder_deprecation_msg, UserWarning)\n",
      "/home/notebook/anaconda3/envs/fastai/lib/python3.9/site-packages/sklearn/preprocessing/_label.py:98: DataConversionWarning: A column-vector y was passed when a 1d array was expected. Please change the shape of y to (n_samples, ), for example using ravel().\n",
      "  y = column_or_1d(y, warn=True)\n",
      "/home/notebook/anaconda3/envs/fastai/lib/python3.9/site-packages/sklearn/preprocessing/_label.py:133: DataConversionWarning: A column-vector y was passed when a 1d array was expected. Please change the shape of y to (n_samples, ), for example using ravel().\n",
      "  y = column_or_1d(y, warn=True)\n"
     ]
    },
    {
     "name": "stdout",
     "output_type": "stream",
     "text": [
      "[14:08:43] WARNING: ../src/learner.cc:1115: Starting in XGBoost 1.3.0, the default evaluation metric used with the objective 'binary:logistic' was changed from 'error' to 'logloss'. Explicitly set eval_metric if you'd like to restore the old behavior.\n",
      "/home/notebook/neuron/aggregated/bim_03/layer_7.npy\n",
      "/home/notebook/neuron/aggregated/carlini_l2/layer_7.npy\n",
      "/home/notebook/neuron/aggregated/deep/layer_7.npy\n",
      "/home/notebook/neuron/aggregated/fgsm_03/layer_7.npy\n",
      "(55000, 784)\n",
      "/home/notebook/neuron/aggregated/bim_03/layer_1.npy\n"
     ]
    },
    {
     "name": "stderr",
     "output_type": "stream",
     "text": [
      "/home/notebook/anaconda3/envs/fastai/lib/python3.9/site-packages/xgboost/sklearn.py:1224: UserWarning: The use of label encoder in XGBClassifier is deprecated and will be removed in a future release. To remove this warning, do the following: 1) Pass option use_label_encoder=False when constructing XGBClassifier object; and 2) Encode your labels (y) as integers starting with 0, i.e. 0, 1, 2, ..., [num_class - 1].\n",
      "  warnings.warn(label_encoder_deprecation_msg, UserWarning)\n",
      "/home/notebook/anaconda3/envs/fastai/lib/python3.9/site-packages/sklearn/preprocessing/_label.py:98: DataConversionWarning: A column-vector y was passed when a 1d array was expected. Please change the shape of y to (n_samples, ), for example using ravel().\n",
      "  y = column_or_1d(y, warn=True)\n",
      "/home/notebook/anaconda3/envs/fastai/lib/python3.9/site-packages/sklearn/preprocessing/_label.py:133: DataConversionWarning: A column-vector y was passed when a 1d array was expected. Please change the shape of y to (n_samples, ), for example using ravel().\n",
      "  y = column_or_1d(y, warn=True)\n"
     ]
    },
    {
     "name": "stdout",
     "output_type": "stream",
     "text": [
      "[14:08:59] WARNING: ../src/learner.cc:1115: Starting in XGBoost 1.3.0, the default evaluation metric used with the objective 'binary:logistic' was changed from 'error' to 'logloss'. Explicitly set eval_metric if you'd like to restore the old behavior.\n",
      "/home/notebook/neuron/aggregated/bim_03/layer_1.npy\n",
      "/home/notebook/neuron/aggregated/carlini_l2/layer_1.npy\n",
      "/home/notebook/neuron/aggregated/deep/layer_1.npy\n",
      "/home/notebook/neuron/aggregated/fgsm_03/layer_1.npy\n",
      "/home/notebook/neuron/aggregated/carlini_l2/layer_1.npy\n",
      "could not load carlini_l2 for layer 1\n",
      "/home/notebook/neuron/aggregated/deep/layer_1.npy\n"
     ]
    },
    {
     "name": "stderr",
     "output_type": "stream",
     "text": [
      "/home/notebook/anaconda3/envs/fastai/lib/python3.9/site-packages/xgboost/sklearn.py:1224: UserWarning: The use of label encoder in XGBClassifier is deprecated and will be removed in a future release. To remove this warning, do the following: 1) Pass option use_label_encoder=False when constructing XGBClassifier object; and 2) Encode your labels (y) as integers starting with 0, i.e. 0, 1, 2, ..., [num_class - 1].\n",
      "  warnings.warn(label_encoder_deprecation_msg, UserWarning)\n",
      "/home/notebook/anaconda3/envs/fastai/lib/python3.9/site-packages/sklearn/preprocessing/_label.py:98: DataConversionWarning: A column-vector y was passed when a 1d array was expected. Please change the shape of y to (n_samples, ), for example using ravel().\n",
      "  y = column_or_1d(y, warn=True)\n",
      "/home/notebook/anaconda3/envs/fastai/lib/python3.9/site-packages/sklearn/preprocessing/_label.py:133: DataConversionWarning: A column-vector y was passed when a 1d array was expected. Please change the shape of y to (n_samples, ), for example using ravel().\n",
      "  y = column_or_1d(y, warn=True)\n"
     ]
    },
    {
     "name": "stdout",
     "output_type": "stream",
     "text": [
      "[14:09:07] WARNING: ../src/learner.cc:1115: Starting in XGBoost 1.3.0, the default evaluation metric used with the objective 'binary:logistic' was changed from 'error' to 'logloss'. Explicitly set eval_metric if you'd like to restore the old behavior.\n",
      "/home/notebook/neuron/aggregated/bim_03/layer_1.npy\n",
      "/home/notebook/neuron/aggregated/carlini_l2/layer_1.npy\n",
      "/home/notebook/neuron/aggregated/deep/layer_1.npy\n",
      "/home/notebook/neuron/aggregated/fgsm_03/layer_1.npy\n",
      "/home/notebook/neuron/aggregated/fgsm_03/layer_1.npy\n"
     ]
    },
    {
     "name": "stderr",
     "output_type": "stream",
     "text": [
      "/home/notebook/anaconda3/envs/fastai/lib/python3.9/site-packages/xgboost/sklearn.py:1224: UserWarning: The use of label encoder in XGBClassifier is deprecated and will be removed in a future release. To remove this warning, do the following: 1) Pass option use_label_encoder=False when constructing XGBClassifier object; and 2) Encode your labels (y) as integers starting with 0, i.e. 0, 1, 2, ..., [num_class - 1].\n",
      "  warnings.warn(label_encoder_deprecation_msg, UserWarning)\n",
      "/home/notebook/anaconda3/envs/fastai/lib/python3.9/site-packages/sklearn/preprocessing/_label.py:98: DataConversionWarning: A column-vector y was passed when a 1d array was expected. Please change the shape of y to (n_samples, ), for example using ravel().\n",
      "  y = column_or_1d(y, warn=True)\n",
      "/home/notebook/anaconda3/envs/fastai/lib/python3.9/site-packages/sklearn/preprocessing/_label.py:133: DataConversionWarning: A column-vector y was passed when a 1d array was expected. Please change the shape of y to (n_samples, ), for example using ravel().\n",
      "  y = column_or_1d(y, warn=True)\n"
     ]
    },
    {
     "name": "stdout",
     "output_type": "stream",
     "text": [
      "[14:09:15] WARNING: ../src/learner.cc:1115: Starting in XGBoost 1.3.0, the default evaluation metric used with the objective 'binary:logistic' was changed from 'error' to 'logloss'. Explicitly set eval_metric if you'd like to restore the old behavior.\n",
      "/home/notebook/neuron/aggregated/bim_03/layer_1.npy\n",
      "/home/notebook/neuron/aggregated/carlini_l2/layer_1.npy\n",
      "/home/notebook/neuron/aggregated/deep/layer_1.npy\n",
      "/home/notebook/neuron/aggregated/fgsm_03/layer_1.npy\n",
      "(55000, 3200)\n",
      "/home/notebook/neuron/aggregated/bim_03/layer_5.npy\n"
     ]
    },
    {
     "name": "stderr",
     "output_type": "stream",
     "text": [
      "/home/notebook/anaconda3/envs/fastai/lib/python3.9/site-packages/xgboost/sklearn.py:1224: UserWarning: The use of label encoder in XGBClassifier is deprecated and will be removed in a future release. To remove this warning, do the following: 1) Pass option use_label_encoder=False when constructing XGBClassifier object; and 2) Encode your labels (y) as integers starting with 0, i.e. 0, 1, 2, ..., [num_class - 1].\n",
      "  warnings.warn(label_encoder_deprecation_msg, UserWarning)\n",
      "/home/notebook/anaconda3/envs/fastai/lib/python3.9/site-packages/sklearn/preprocessing/_label.py:98: DataConversionWarning: A column-vector y was passed when a 1d array was expected. Please change the shape of y to (n_samples, ), for example using ravel().\n",
      "  y = column_or_1d(y, warn=True)\n",
      "/home/notebook/anaconda3/envs/fastai/lib/python3.9/site-packages/sklearn/preprocessing/_label.py:133: DataConversionWarning: A column-vector y was passed when a 1d array was expected. Please change the shape of y to (n_samples, ), for example using ravel().\n",
      "  y = column_or_1d(y, warn=True)\n"
     ]
    },
    {
     "name": "stdout",
     "output_type": "stream",
     "text": [
      "[14:09:34] WARNING: ../src/learner.cc:1115: Starting in XGBoost 1.3.0, the default evaluation metric used with the objective 'binary:logistic' was changed from 'error' to 'logloss'. Explicitly set eval_metric if you'd like to restore the old behavior.\n",
      "/home/notebook/neuron/aggregated/bim_03/layer_5.npy\n",
      "/home/notebook/neuron/aggregated/carlini_l2/layer_5.npy\n",
      "/home/notebook/neuron/aggregated/deep/layer_5.npy\n",
      "/home/notebook/neuron/aggregated/fgsm_03/layer_5.npy\n",
      "/home/notebook/neuron/aggregated/carlini_l2/layer_5.npy\n",
      "could not load carlini_l2 for layer 5\n",
      "/home/notebook/neuron/aggregated/deep/layer_5.npy\n"
     ]
    },
    {
     "name": "stderr",
     "output_type": "stream",
     "text": [
      "/home/notebook/anaconda3/envs/fastai/lib/python3.9/site-packages/xgboost/sklearn.py:1224: UserWarning: The use of label encoder in XGBClassifier is deprecated and will be removed in a future release. To remove this warning, do the following: 1) Pass option use_label_encoder=False when constructing XGBClassifier object; and 2) Encode your labels (y) as integers starting with 0, i.e. 0, 1, 2, ..., [num_class - 1].\n",
      "  warnings.warn(label_encoder_deprecation_msg, UserWarning)\n",
      "/home/notebook/anaconda3/envs/fastai/lib/python3.9/site-packages/sklearn/preprocessing/_label.py:98: DataConversionWarning: A column-vector y was passed when a 1d array was expected. Please change the shape of y to (n_samples, ), for example using ravel().\n",
      "  y = column_or_1d(y, warn=True)\n",
      "/home/notebook/anaconda3/envs/fastai/lib/python3.9/site-packages/sklearn/preprocessing/_label.py:133: DataConversionWarning: A column-vector y was passed when a 1d array was expected. Please change the shape of y to (n_samples, ), for example using ravel().\n",
      "  y = column_or_1d(y, warn=True)\n"
     ]
    },
    {
     "name": "stdout",
     "output_type": "stream",
     "text": [
      "[14:12:04] WARNING: ../src/learner.cc:1115: Starting in XGBoost 1.3.0, the default evaluation metric used with the objective 'binary:logistic' was changed from 'error' to 'logloss'. Explicitly set eval_metric if you'd like to restore the old behavior.\n",
      "/home/notebook/neuron/aggregated/bim_03/layer_5.npy\n",
      "/home/notebook/neuron/aggregated/carlini_l2/layer_5.npy\n",
      "/home/notebook/neuron/aggregated/deep/layer_5.npy\n",
      "/home/notebook/neuron/aggregated/fgsm_03/layer_5.npy\n",
      "/home/notebook/neuron/aggregated/fgsm_03/layer_5.npy\n"
     ]
    },
    {
     "name": "stderr",
     "output_type": "stream",
     "text": [
      "/home/notebook/anaconda3/envs/fastai/lib/python3.9/site-packages/xgboost/sklearn.py:1224: UserWarning: The use of label encoder in XGBClassifier is deprecated and will be removed in a future release. To remove this warning, do the following: 1) Pass option use_label_encoder=False when constructing XGBClassifier object; and 2) Encode your labels (y) as integers starting with 0, i.e. 0, 1, 2, ..., [num_class - 1].\n",
      "  warnings.warn(label_encoder_deprecation_msg, UserWarning)\n",
      "/home/notebook/anaconda3/envs/fastai/lib/python3.9/site-packages/sklearn/preprocessing/_label.py:98: DataConversionWarning: A column-vector y was passed when a 1d array was expected. Please change the shape of y to (n_samples, ), for example using ravel().\n",
      "  y = column_or_1d(y, warn=True)\n",
      "/home/notebook/anaconda3/envs/fastai/lib/python3.9/site-packages/sklearn/preprocessing/_label.py:133: DataConversionWarning: A column-vector y was passed when a 1d array was expected. Please change the shape of y to (n_samples, ), for example using ravel().\n",
      "  y = column_or_1d(y, warn=True)\n"
     ]
    },
    {
     "name": "stdout",
     "output_type": "stream",
     "text": [
      "[14:17:22] WARNING: ../src/learner.cc:1115: Starting in XGBoost 1.3.0, the default evaluation metric used with the objective 'binary:logistic' was changed from 'error' to 'logloss'. Explicitly set eval_metric if you'd like to restore the old behavior.\n",
      "/home/notebook/neuron/aggregated/bim_03/layer_5.npy\n",
      "/home/notebook/neuron/aggregated/carlini_l2/layer_5.npy\n",
      "/home/notebook/neuron/aggregated/deep/layer_5.npy\n",
      "/home/notebook/neuron/aggregated/fgsm_03/layer_5.npy\n",
      "(55000, 784)\n",
      "/home/notebook/neuron/aggregated/bim_03/layer_2.npy\n"
     ]
    },
    {
     "name": "stderr",
     "output_type": "stream",
     "text": [
      "/home/notebook/anaconda3/envs/fastai/lib/python3.9/site-packages/xgboost/sklearn.py:1224: UserWarning: The use of label encoder in XGBClassifier is deprecated and will be removed in a future release. To remove this warning, do the following: 1) Pass option use_label_encoder=False when constructing XGBClassifier object; and 2) Encode your labels (y) as integers starting with 0, i.e. 0, 1, 2, ..., [num_class - 1].\n",
      "  warnings.warn(label_encoder_deprecation_msg, UserWarning)\n",
      "/home/notebook/anaconda3/envs/fastai/lib/python3.9/site-packages/sklearn/preprocessing/_label.py:98: DataConversionWarning: A column-vector y was passed when a 1d array was expected. Please change the shape of y to (n_samples, ), for example using ravel().\n",
      "  y = column_or_1d(y, warn=True)\n",
      "/home/notebook/anaconda3/envs/fastai/lib/python3.9/site-packages/sklearn/preprocessing/_label.py:133: DataConversionWarning: A column-vector y was passed when a 1d array was expected. Please change the shape of y to (n_samples, ), for example using ravel().\n",
      "  y = column_or_1d(y, warn=True)\n"
     ]
    },
    {
     "name": "stdout",
     "output_type": "stream",
     "text": [
      "[14:19:25] WARNING: ../src/learner.cc:1115: Starting in XGBoost 1.3.0, the default evaluation metric used with the objective 'binary:logistic' was changed from 'error' to 'logloss'. Explicitly set eval_metric if you'd like to restore the old behavior.\n",
      "/home/notebook/neuron/aggregated/bim_03/layer_2.npy\n",
      "/home/notebook/neuron/aggregated/carlini_l2/layer_2.npy\n",
      "/home/notebook/neuron/aggregated/deep/layer_2.npy\n",
      "/home/notebook/neuron/aggregated/fgsm_03/layer_2.npy\n",
      "/home/notebook/neuron/aggregated/carlini_l2/layer_2.npy\n",
      "could not load carlini_l2 for layer 2\n",
      "/home/notebook/neuron/aggregated/deep/layer_2.npy\n"
     ]
    },
    {
     "name": "stderr",
     "output_type": "stream",
     "text": [
      "/home/notebook/anaconda3/envs/fastai/lib/python3.9/site-packages/xgboost/sklearn.py:1224: UserWarning: The use of label encoder in XGBClassifier is deprecated and will be removed in a future release. To remove this warning, do the following: 1) Pass option use_label_encoder=False when constructing XGBClassifier object; and 2) Encode your labels (y) as integers starting with 0, i.e. 0, 1, 2, ..., [num_class - 1].\n",
      "  warnings.warn(label_encoder_deprecation_msg, UserWarning)\n",
      "/home/notebook/anaconda3/envs/fastai/lib/python3.9/site-packages/sklearn/preprocessing/_label.py:98: DataConversionWarning: A column-vector y was passed when a 1d array was expected. Please change the shape of y to (n_samples, ), for example using ravel().\n",
      "  y = column_or_1d(y, warn=True)\n",
      "/home/notebook/anaconda3/envs/fastai/lib/python3.9/site-packages/sklearn/preprocessing/_label.py:133: DataConversionWarning: A column-vector y was passed when a 1d array was expected. Please change the shape of y to (n_samples, ), for example using ravel().\n",
      "  y = column_or_1d(y, warn=True)\n"
     ]
    },
    {
     "name": "stdout",
     "output_type": "stream",
     "text": [
      "[14:19:33] WARNING: ../src/learner.cc:1115: Starting in XGBoost 1.3.0, the default evaluation metric used with the objective 'binary:logistic' was changed from 'error' to 'logloss'. Explicitly set eval_metric if you'd like to restore the old behavior.\n",
      "/home/notebook/neuron/aggregated/bim_03/layer_2.npy\n",
      "/home/notebook/neuron/aggregated/carlini_l2/layer_2.npy\n",
      "/home/notebook/neuron/aggregated/deep/layer_2.npy\n",
      "/home/notebook/neuron/aggregated/fgsm_03/layer_2.npy\n",
      "/home/notebook/neuron/aggregated/fgsm_03/layer_2.npy\n"
     ]
    },
    {
     "name": "stderr",
     "output_type": "stream",
     "text": [
      "/home/notebook/anaconda3/envs/fastai/lib/python3.9/site-packages/xgboost/sklearn.py:1224: UserWarning: The use of label encoder in XGBClassifier is deprecated and will be removed in a future release. To remove this warning, do the following: 1) Pass option use_label_encoder=False when constructing XGBClassifier object; and 2) Encode your labels (y) as integers starting with 0, i.e. 0, 1, 2, ..., [num_class - 1].\n",
      "  warnings.warn(label_encoder_deprecation_msg, UserWarning)\n",
      "/home/notebook/anaconda3/envs/fastai/lib/python3.9/site-packages/sklearn/preprocessing/_label.py:98: DataConversionWarning: A column-vector y was passed when a 1d array was expected. Please change the shape of y to (n_samples, ), for example using ravel().\n",
      "  y = column_or_1d(y, warn=True)\n",
      "/home/notebook/anaconda3/envs/fastai/lib/python3.9/site-packages/sklearn/preprocessing/_label.py:133: DataConversionWarning: A column-vector y was passed when a 1d array was expected. Please change the shape of y to (n_samples, ), for example using ravel().\n",
      "  y = column_or_1d(y, warn=True)\n"
     ]
    },
    {
     "name": "stdout",
     "output_type": "stream",
     "text": [
      "[14:19:41] WARNING: ../src/learner.cc:1115: Starting in XGBoost 1.3.0, the default evaluation metric used with the objective 'binary:logistic' was changed from 'error' to 'logloss'. Explicitly set eval_metric if you'd like to restore the old behavior.\n",
      "/home/notebook/neuron/aggregated/bim_03/layer_2.npy\n",
      "/home/notebook/neuron/aggregated/carlini_l2/layer_2.npy\n",
      "/home/notebook/neuron/aggregated/deep/layer_2.npy\n",
      "/home/notebook/neuron/aggregated/fgsm_03/layer_2.npy\n"
     ]
    }
   ],
   "source": [
    "for layer in number_list: #for each layer\n",
    "    x_train=load_train(layer)\n",
    "    x_train=linearize(x_train)\n",
    "#    np.random.shuffle(x_train) --> no reason to shuffle\n",
    "    x_train_normal, y_train_normal=create_normal(x_train)\n",
    "    x_test=load_test(layer)\n",
    "    x_test=linearize(x_test)\n",
    "#    np.random.shuffle(x_train) --> no reason to shuffle\n",
    "    x_test_normal, y_test_normal=create_normal(x_test)\n",
    "    print(x_train.shape)\n",
    "    if(x_train.shape[1]>32800):\n",
    "        print(\"skipping, too large size; consider using avgpooling on the layer\")\n",
    "        continue\n",
    "\n",
    "    for attack in ATTACK: #for each attack\n",
    "        xgbC=xgb.XGBClassifier(nthread=8)\n",
    "        try:\n",
    "            attack_data=load_attack(attack, layer)\n",
    "        except:\n",
    "            print(\"could not load {} for layer {}\".format(attack, layer)) #should never see this\n",
    "            continue\n",
    "        attack_data=linearize(attack_data)\n",
    "#        np.random.shuffle(attack_data) --> no reason to shuffle\n",
    "        x_attack, y_attack=create_attack(attack_data)\n",
    "        x_train_attack, y_train_attack=create_attack(x_attack[0: round(x_attack.shape[0]*(1-TEST_SIZE_SPLIT))]) #divide the attack set in two parts, one is used for training, the other for test\n",
    "\n",
    "        #create training set\n",
    "        x_train=np.concatenate((x_train_normal, x_train_attack), axis=0)\n",
    "        y_train=np.concatenate((y_train_normal, y_train_attack), axis=0)\n",
    "        #create test set\n",
    "        x_test_attack, y_test_attack=create_attack(x_attack[round(x_attack.shape[0]*(1-TEST_SIZE_SPLIT)):])\n",
    "        x_test=np.concatenate((x_test_normal, x_test_attack), axis=0)\n",
    "        y_test=np.concatenate((y_test_normal, y_test_attack), axis=0)\n",
    "\n",
    "        #fit\n",
    "        xgbC.fit(x_train,y_train)\n",
    "\n",
    "        write_sentence(f, \"prediction on test set (predict is done on the test set + the attack used for training, no unknowns)\")\n",
    "        final_preds=xgbC.predict(x_test)\n",
    "        accuracy=accuracy_score(y_test, final_preds)\n",
    "        tn, fp, fn, tp = confusion_matrix(y_test, final_preds, labels=[0,1]).ravel()\n",
    "        \n",
    "        write_log(f, METHOD, \"layer_\"+str(layer), attack, \"train set + {}\".format(attack),\n",
    "                  DATASET, x_test.shape[1:],  accuracy, tn, fp, fn, tp)\n",
    "        write_sentence(f, \"now we perform prediction on all the adversarial images (attack by attack)\")\n",
    "\n",
    "        for attack1 in ATTACK:\n",
    "            try:\n",
    "                attack_data=load_attack(attack1, layer)\n",
    "            except:\n",
    "                continue\n",
    "            x_attack=linearize(attack_data)\n",
    "#            np.random.shuffle(x_attack)\n",
    "            x_attack, y_attack=create_attack(x_attack)\n",
    "            final_preds=xgbC.predict(x_attack)\n",
    "            accuracy=accuracy_score(y_attack, final_preds)\n",
    "            tn, fp, fn, tp = confusion_matrix(y_attack, final_preds, labels=[0,1]).ravel()\n",
    "            write_log(f, METHOD, \"layer_\"+str(layer), attack1, \"train set + {}\".format(attack),\n",
    "                      DATASET, x_attack.shape[1:], accuracy, tn, fp, fn, tp)\n"
   ]
  }
 ],
 "metadata": {
  "kernelspec": {
   "display_name": "fastai",
   "language": "python",
   "name": "fastai"
  },
  "language_info": {
   "codemirror_mode": {
    "name": "ipython",
    "version": 3
   },
   "file_extension": ".py",
   "mimetype": "text/x-python",
   "name": "python",
   "nbconvert_exporter": "python",
   "pygments_lexer": "ipython3",
   "version": "3.9.10"
  }
 },
 "nbformat": 4,
 "nbformat_minor": 5
}
